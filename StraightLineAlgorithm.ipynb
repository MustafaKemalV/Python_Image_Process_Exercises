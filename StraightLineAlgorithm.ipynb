{
 "cells": [
  {
   "cell_type": "code",
   "execution_count": 1,
   "id": "797a2fb2",
   "metadata": {},
   "outputs": [
    {
     "data": {
      "image/png": "[encoded data removed]",
      "text/plain": [
       "<Figure size 432x288 with 1 Axes>"
      ]
     },
     "metadata": {
      "needs_background": "light"
     },
     "output_type": "display_data"
    }
   ],
   "source": [
    "import matplotlib.pyplot as plt\n",
    "\n",
    "import numpy as np\n",
    "\n",
    "import PIL\n",
    "\n",
    "import os\n",
    "    \n",
    "import numpy as np                 \n",
    "import matplotlib.pyplot as plt    \n",
    "\n",
    "img=np.ones((600,600,3)) \n",
    "\n",
    "\n",
    "def DrawLine(x1,y1,x2,y2):\n",
    "    \n",
    "    dx = abs(x2-x1)\n",
    "    dy = abs(y2-y1)\n",
    "\n",
    "    \n",
    "    if x1<x2:\n",
    "        xs=1 \n",
    "    \n",
    "    else:\n",
    "        xs=-1   \n",
    "        \n",
    "    if y1<y2:\n",
    "        ys=1\n",
    "    \n",
    "    else:\n",
    "        ys=-1\n",
    "         \n",
    "    x=x1\n",
    "    y=y1    \n",
    "    \n",
    "                            \n",
    "    if dx>dy:\n",
    "        \n",
    "        p=2*dy-dx \n",
    "        \n",
    "        while x!=x2:\n",
    "           \n",
    "            x=x+xs\n",
    "            \n",
    "            if p > 0:\n",
    "                \n",
    "                y=y+ys\n",
    "                \n",
    "                p=p+2*dy-2*dx\n",
    "            \n",
    "            else:\n",
    "                p=p+2*dy  \n",
    "                \n",
    "            img[y,x]= 0\n",
    "            \n",
    "    else:\n",
    "        p= 2*dx-dy\n",
    "\n",
    "        while y!=y2:\n",
    "            y=y+ys\n",
    "\n",
    "            if p > 0:\n",
    "                x=x+xs\n",
    "               \n",
    "                p=p+2*dx-2*dy\n",
    "\n",
    "            else:\n",
    "                x=x\n",
    "               \n",
    "                p=p+2*dx\n",
    "\n",
    "            img[y,x]=0\n",
    "     \n",
    "    return;\n",
    "\n",
    "DrawLine(50,200,150,200)\n",
    "DrawLine(50,400,150,400)\n",
    "DrawLine(50,200,50,400)\n",
    "DrawLine(150,200,150,400)\n",
    "DrawLine(200,200,320,200)\n",
    "DrawLine(320,200,230,400)\n",
    "DrawLine(220,300,310,300)\n",
    "DrawLine(400,200,500,200)\n",
    "DrawLine(400,200,400,400)\n",
    "DrawLine(400,400,500,400)\n",
    "DrawLine(500,300,500,400)\n",
    "DrawLine(400,300,500,300)\n",
    "\n",
    "plt.imshow(img)\n",
    "\n",
    "plt.show()\n"
   ]
  }
 ],
 "metadata": {
  "kernelspec": {
   "display_name": "Python 3",
   "language": "python",
   "name": "python3"
  },
  "language_info": {
   "codemirror_mode": {
    "name": "ipython",
    "version": 3
   },
   "file_extension": ".py",
   "mimetype": "text/x-python",
   "name": "python",
   "nbconvert_exporter": "python",
   "pygments_lexer": "ipython3",
   "version": "3.8.8"
  }
 },
 "nbformat": 4,
 "nbformat_minor": 5
}
